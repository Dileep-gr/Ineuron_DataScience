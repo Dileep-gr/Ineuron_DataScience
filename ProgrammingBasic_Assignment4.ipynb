{
 "cells": [
  {
   "cell_type": "code",
   "execution_count": 31,
   "metadata": {},
   "outputs": [
    {
     "name": "stdout",
     "output_type": "stream",
     "text": [
      "enter a integer number only:10\n",
      "3628800\n"
     ]
    }
   ],
   "source": [
    "# Q1 Write a Python Program to Find the Factorial of a Number?\n",
    "\n",
    "num = int(input(\"enter a integer number only:\"))\n",
    "\n",
    "factorial = 1\n",
    "if num > 0:\n",
    "    num = num+1\n",
    "    for i in range(1,num):\n",
    "        factorial = factorial * i\n",
    "    print(factorial)\n",
    "    \n",
    "elif num == 0:\n",
    "    print(\"factorial of 0 will be 0\")\n",
    "    \n",
    "else:\n",
    "    print(\"Please do not enter negative number\")"
   ]
  },
  {
   "cell_type": "code",
   "execution_count": 23,
   "metadata": {},
   "outputs": [
    {
     "name": "stdout",
     "output_type": "stream",
     "text": [
      "enter a integer number:10\n",
      "10  *  1 = 10\n",
      "10  *  2 = 20\n",
      "10  *  3 = 30\n",
      "10  *  4 = 40\n",
      "10  *  5 = 50\n",
      "10  *  6 = 60\n",
      "10  *  7 = 70\n",
      "10  *  8 = 80\n",
      "10  *  9 = 90\n",
      "10  *  10 = 100\n"
     ]
    }
   ],
   "source": [
    "# Q2 Write a Python Program to Display the multiplication Table?\n",
    "num = int(input(\"enter a integer number only:\"))\n",
    "\n",
    "if num > 0:\n",
    "    \n",
    "    for i in range(1,11):\n",
    "        total = num * i\n",
    "        print(num , \" * \" , i , \"=\" , total)\n",
    "        \n",
    "else:\n",
    "    print(\"Invalid number entered\")"
   ]
  },
  {
   "cell_type": "code",
   "execution_count": 38,
   "metadata": {},
   "outputs": [
    {
     "name": "stdout",
     "output_type": "stream",
     "text": [
      "enter a integer number only:8\n",
      "0\n",
      "1\n",
      "1\n",
      "2\n",
      "3\n",
      "5\n",
      "8\n",
      "13\n"
     ]
    }
   ],
   "source": [
    "#Q3 Write a Python Program to Print the Fibonacci sequence?\n",
    "num = int(input(\"enter a integer number only:\"))\n",
    "\n",
    "num1 = 0\n",
    "num2 = 1\n",
    "if num > 0:\n",
    "    \n",
    "    for i in range(num):\n",
    "        \n",
    "        if i == 0:\n",
    "            print('0')\n",
    "        elif i == 1:\n",
    "            print('1')\n",
    "        else:\n",
    "            result = num1+num2\n",
    "            print(result)\n",
    "            num1 = num2\n",
    "            num2 = result     \n",
    "else:\n",
    "    print(\"Invalid number entered\")"
   ]
  },
  {
   "cell_type": "code",
   "execution_count": 106,
   "metadata": {},
   "outputs": [
    {
     "name": "stdout",
     "output_type": "stream",
     "text": [
      "enter a interger number only:153\n",
      "entered number  153  is Armstrong number\n"
     ]
    }
   ],
   "source": [
    "#Q4 Write a Python Program to Check Armstrong Number?\n",
    "\n",
    "\n",
    "num = str(input(\"enter a interger number only:\"))\n",
    "total = 0\n",
    "\n",
    "for i in num:\n",
    "    i = int(i)\n",
    "    total = total+(i**3)\n",
    "if int(num)==total:\n",
    "    print(\"entered number \",num,\" is Armstrong number\")\n",
    "else:\n",
    "    print(\"entered number \",num,\" is not Armstrong number\")"
   ]
  },
  {
   "cell_type": "code",
   "execution_count": 96,
   "metadata": {},
   "outputs": [
    {
     "name": "stdout",
     "output_type": "stream",
     "text": [
      "enter lower range:0\n",
      "enter higher range:1000\n",
      "Armstrong numbers in user entered range are: [0, 1, 153, 370, 371, 407]\n"
     ]
    }
   ],
   "source": [
    "#Q5 Write a Python Program to Find Armstrong Number in an Interval?\n",
    "\n",
    "\n",
    "start = int(input(\"enter lower range:\"))\n",
    "end = int(input(\"enter higher range:\"))\n",
    "l=[]\n",
    "k=0\n",
    "for j in range(start,end+1):\n",
    "    total = 0\n",
    "    for i in str(j):\n",
    "        i = int(i)\n",
    "        total = total+(i**3)\n",
    "    if int(j) == total:\n",
    "        l.append(j)\n",
    "        \n",
    "        \n",
    "print(\"Armstrong numbers in user entered range are:\",l )\n",
    "\n"
   ]
  },
  {
   "cell_type": "code",
   "execution_count": 117,
   "metadata": {},
   "outputs": [
    {
     "name": "stdout",
     "output_type": "stream",
     "text": [
      "enter a number:1000\n",
      "500500\n"
     ]
    }
   ],
   "source": [
    "#Q6 Write a Python Program to Find the Sum of Natural Numbers?\n",
    "num = int(input(\"enter a number:\"))\n",
    "total = 0\n",
    "if num > 0:\n",
    "    for i in range(1,num+1):\n",
    "        total = total+i\n",
    "    print(total)\n",
    "    \n",
    "else:\n",
    "    print(\"enter possitive integer number\")"
   ]
  },
  {
   "cell_type": "markdown",
   "metadata": {},
   "source": []
  }
 ],
 "metadata": {
  "kernelspec": {
   "display_name": "Python 3",
   "language": "python",
   "name": "python3"
  },
  "language_info": {
   "codemirror_mode": {
    "name": "ipython",
    "version": 3
   },
   "file_extension": ".py",
   "mimetype": "text/x-python",
   "name": "python",
   "nbconvert_exporter": "python",
   "pygments_lexer": "ipython3",
   "version": "3.8.5"
  }
 },
 "nbformat": 4,
 "nbformat_minor": 4
}
