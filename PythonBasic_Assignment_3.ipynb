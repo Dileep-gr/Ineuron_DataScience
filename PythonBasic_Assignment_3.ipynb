{
 "cells": [
  {
   "cell_type": "code",
   "execution_count": null,
   "metadata": {},
   "outputs": [],
   "source": [
    "''' Q1\n",
    "Following are the advantages of functions:\n",
    "1. It increases code reusability and hence avoids repetition of code.\n",
    "2. Large program can be easily divided into multiple functions and it incraeses readability.\n",
    "3. It makes code debugging easy.\n",
    "4. Same code can be called multiple times.\n",
    "5. Multiple developers can work on same programm by assign different functions to different people.\n",
    "                                                                                                                  '''"
   ]
  },
  {
   "cell_type": "code",
   "execution_count": null,
   "metadata": {},
   "outputs": [],
   "source": [
    "''' Q2\n",
    "Code in function runs when it is called    '''"
   ]
  },
  {
   "cell_type": "code",
   "execution_count": null,
   "metadata": {},
   "outputs": [],
   "source": [
    "''' Q3\n",
    "def fun1(a,b):"
   ]
  },
  {
   "cell_type": "code",
   "execution_count": null,
   "metadata": {},
   "outputs": [],
   "source": [
    "''' Q4\n",
    "Function:\n",
    "A function is a block of code that does a particular operation and returns a result. \n",
    "It usually accepts inputs as parameters and returns a result. The parameters are not mandatory.\n",
    "\n",
    "\n",
    "Function call:\n",
    "A function call invokes or calls function. Unless a function is called there is no use of that function.\n"
   ]
  },
  {
   "cell_type": "code",
   "execution_count": null,
   "metadata": {},
   "outputs": [],
   "source": [
    "''' Q5\n",
    "There is only one global scope in python programming\n",
    "There is only one local scope in python programming\n"
   ]
  },
  {
   "cell_type": "code",
   "execution_count": null,
   "metadata": {},
   "outputs": [],
   "source": [
    "''' Q6\n",
    "Local variable scope ends when function call returns"
   ]
  },
  {
   "cell_type": "code",
   "execution_count": null,
   "metadata": {},
   "outputs": [],
   "source": [
    "''' Q7\n",
    "A return value is a value that a function returns to the calling script or function when it completes its task.\n",
    "\n",
    "Yes, it is possible to have return value in an expression\n"
   ]
  },
  {
   "cell_type": "code",
   "execution_count": null,
   "metadata": {},
   "outputs": [],
   "source": [
    "''' Q8\n",
    "function returns value \"None\""
   ]
  },
  {
   "cell_type": "code",
   "execution_count": null,
   "metadata": {},
   "outputs": [],
   "source": [
    "''' Q9\n",
    "by using 'global' keyword"
   ]
  },
  {
   "cell_type": "code",
   "execution_count": null,
   "metadata": {},
   "outputs": [],
   "source": [
    "''' Q10\n",
    "NoneType"
   ]
  },
  {
   "cell_type": "code",
   "execution_count": null,
   "metadata": {},
   "outputs": [],
   "source": [
    "'''Q11\n",
    "import statement \"import areallyourpetsnamederic\" imports a module named areallyourpetsnamederic"
   ]
  },
  {
   "cell_type": "code",
   "execution_count": null,
   "metadata": {},
   "outputs": [],
   "source": [
    "''' Q12\n",
    "\n",
    "spam.bacon()"
   ]
  },
  {
   "cell_type": "code",
   "execution_count": null,
   "metadata": {},
   "outputs": [],
   "source": [
    "''' Q13\n",
    "We can save program from crashing by using error handling"
   ]
  },
  {
   "cell_type": "code",
   "execution_count": null,
   "metadata": {},
   "outputs": [],
   "source": [
    "''' Q14\n",
    "Try clause is used to run a block of code in which error might occur\n",
    "\n",
    "Except clause is used to handle the error that occured in try clause"
   ]
  }
 ],
 "metadata": {
  "kernelspec": {
   "display_name": "Python 3",
   "language": "python",
   "name": "python3"
  },
  "language_info": {
   "codemirror_mode": {
    "name": "ipython",
    "version": 3
   },
   "file_extension": ".py",
   "mimetype": "text/x-python",
   "name": "python",
   "nbconvert_exporter": "python",
   "pygments_lexer": "ipython3",
   "version": "3.8.5"
  }
 },
 "nbformat": 4,
 "nbformat_minor": 4
}
