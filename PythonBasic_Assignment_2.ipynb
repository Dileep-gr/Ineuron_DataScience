{
 "cells": [
  {
   "cell_type": "code",
   "execution_count": null,
   "metadata": {},
   "outputs": [],
   "source": [
    "#   Q1:\n",
    "#   True\n",
    "#   False"
   ]
  },
  {
   "cell_type": "code",
   "execution_count": null,
   "metadata": {},
   "outputs": [],
   "source": [
    "'''  Q2:\n",
    "     AND\n",
    "     OR\n",
    "     NOT      '''"
   ]
  },
  {
   "cell_type": "code",
   "execution_count": null,
   "metadata": {},
   "outputs": [],
   "source": [
    "'''  Q3:\n",
    "\n",
    "For AND operator\n",
    "    True AND True  = True\n",
    "    True AND False = False\n",
    "    False AND True = False\n",
    "    False AND False = False\n",
    "    \n",
    "For OR Operator\n",
    "    True OR True  = True\n",
    "    True OR False = True\n",
    "    False OR True = True\n",
    "    False OR False = False\n",
    "    \n",
    "For NOT Operator\n",
    "    NOT True  = False\n",
    "    NOT False = True     '''"
   ]
  },
  {
   "cell_type": "code",
   "execution_count": 2,
   "metadata": {},
   "outputs": [
    {
     "name": "stdout",
     "output_type": "stream",
     "text": [
      "False\n",
      "False\n",
      "True\n",
      "False\n",
      "False\n",
      "True\n"
     ]
    }
   ],
   "source": [
    "#  Q4:\n",
    "\n",
    "R = (5 > 4) and (3 == 5)\n",
    "print(R)\n",
    "\n",
    "R = not (5 > 4)\n",
    "print(R)\n",
    "\n",
    "R = (5 > 4) or (3 == 5)\n",
    "print(R)\n",
    "\n",
    "R = not ((5 > 4) or (3 == 5))\n",
    "print(R)\n",
    "\n",
    "R = (True and True) and (True == False)\n",
    "print(R)\n",
    "\n",
    "R = (not False) or (not True)\n",
    "print(R)\n",
    "\n"
   ]
  },
  {
   "cell_type": "code",
   "execution_count": 1,
   "metadata": {},
   "outputs": [
    {
     "data": {
      "text/plain": [
       "' Q5\\n\\nBelow are 6 comparision operators\\nLess Than  (<)\\nGreater Than (>)\\nLess Than or Equal To (<=)\\nGreater Than or Equal To (>=)\\nEqual To (==)\\nNot Equal To (!=)           '"
      ]
     },
     "execution_count": 1,
     "metadata": {},
     "output_type": "execute_result"
    }
   ],
   "source": [
    "''' Q5\n",
    "\n",
    "Below are 6 comparision operators\n",
    "Less Than  (<)\n",
    "Greater Than (>)\n",
    "Less Than or Equal To (<=)\n",
    "Greater Than or Equal To (>=)\n",
    "Equal To (==)\n",
    "Not Equal To (!=)           '''\n"
   ]
  },
  {
   "cell_type": "code",
   "execution_count": null,
   "metadata": {},
   "outputs": [],
   "source": [
    "''' Q6 \n",
    "\n",
    "Equal To:\n",
    " 'Equal To' operator will have two equal signs (==) , it is used to compare two values\n",
    " Equal To operator checks whether the two given operands are equal or not. If so, it returns true. Otherwise it returns false.\n",
    " \n",
    " ex: a = 10\n",
    "     b = 10\n",
    "     a == b \n",
    "     this returns True\n",
    "     \n",
    "Assignment operator:\n",
    "Assignment operator uses sinle equal sign (=), it is used to assign value to avariable\n",
    "In Assignment operator , result of the calculation on the right side of an equals sign is assigned to a variable on the left.\n",
    "Ex: a = 3\n",
    "                                                                                                                            '''    "
   ]
  },
  {
   "cell_type": "code",
   "execution_count": null,
   "metadata": {},
   "outputs": [],
   "source": [
    "'''Q7\n",
    "\n",
    "First block of code:\n",
    "if\t spam == 10:\n",
    "    print('eggs')\n",
    "    \n",
    "    \n",
    "Second block of code:\n",
    "if spam > 5:\n",
    "    print('bacon')\n",
    "\n",
    "\n",
    "Third block of code:\n",
    "else:\n",
    "    print('ham')\n",
    "    print('spam')\n",
    "    print('spam')\n",
    "\n"
   ]
  },
  {
   "cell_type": "code",
   "execution_count": null,
   "metadata": {},
   "outputs": [],
   "source": [
    "# Q8\n",
    "spam = int(input(\"enter number\"))\n",
    "if spam == 1:\n",
    "    print(\"Hello\")\n",
    "elif spam == 2:\n",
    "    print(\"Howdy\")\n",
    "else:\n",
    "    print(\"Greetings!\")"
   ]
  },
  {
   "cell_type": "code",
   "execution_count": null,
   "metadata": {},
   "outputs": [],
   "source": [
    "# Q9\n",
    "#  Ctrl+c"
   ]
  },
  {
   "cell_type": "code",
   "execution_count": null,
   "metadata": {},
   "outputs": [],
   "source": [
    "''' Q10\n",
    "Break statement will terminate the loop in which it is present and control flows to the code just after the loop.\n",
    "\n",
    "Continue statement will skip the execution of code just after continue statement for current iteration , loop does not terminate,\n",
    "but continues with next iteration.\n",
    "                                  \n",
    "'''"
   ]
  },
  {
   "cell_type": "code",
   "execution_count": null,
   "metadata": {},
   "outputs": [],
   "source": [
    "''' Q11\n",
    "range(10) : In this start point and step is missing , so by default range starts from 0 till 10 (exclusive) and increment happens by 1 every time.\n",
    "range(0,10): In this step is missing , iteration starts from 0 till 10 (exclusive) and by default increment happens by 1 every time\n",
    "range(0,10,1): In this start , end and step are specified, iteration starts from 0 till 10 (exclusive) and iteration happens by 1 everytime\n",
    "'''"
   ]
  },
  {
   "cell_type": "code",
   "execution_count": null,
   "metadata": {},
   "outputs": [],
   "source": [
    "# Q12\n",
    "\n",
    "#for loop\n",
    "for i in range(10):\n",
    "    print(i+1)\n",
    "    \n",
    "    \n",
    "#while loop\n",
    "i = 0\n",
    "while i < 10:\n",
    "    i = i+1\n",
    "    print(i)"
   ]
  },
  {
   "cell_type": "code",
   "execution_count": null,
   "metadata": {},
   "outputs": [],
   "source": [
    "# Q13\n",
    "\n",
    "spam.bacon()"
   ]
  }
 ],
 "metadata": {
  "kernelspec": {
   "display_name": "Python 3",
   "language": "python",
   "name": "python3"
  },
  "language_info": {
   "codemirror_mode": {
    "name": "ipython",
    "version": 3
   },
   "file_extension": ".py",
   "mimetype": "text/x-python",
   "name": "python",
   "nbconvert_exporter": "python",
   "pygments_lexer": "ipython3",
   "version": "3.8.5"
  }
 },
 "nbformat": 4,
 "nbformat_minor": 4
}
