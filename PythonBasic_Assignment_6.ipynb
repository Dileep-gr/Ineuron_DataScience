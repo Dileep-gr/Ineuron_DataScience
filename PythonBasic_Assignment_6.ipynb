{
 "cells": [
  {
   "cell_type": "code",
   "execution_count": null,
   "metadata": {},
   "outputs": [],
   "source": [
    "''' Q1\n",
    "\n",
    "Escape characters allows us to insert special charatcters in in a string which are not allowed to use directly in a string.\n",
    "\n",
    "An escape character is a backslash \\ followed by the character you want to insert.\n",
    "\n",
    "ex: \n",
    "\\n for new line\n",
    "\\\" for double quote\n",
    "\\t for tabs\n",
    "\\n for new line\n",
    "\\r for carriage return\n",
    "\n",
    "'''"
   ]
  },
  {
   "cell_type": "code",
   "execution_count": null,
   "metadata": {},
   "outputs": [],
   "source": [
    "''' Q2\n",
    "\\n stands for new line\n",
    "\n",
    "\\t stands for tab\n",
    "\n",
    "\n",
    "'''"
   ]
  },
  {
   "cell_type": "code",
   "execution_count": null,
   "metadata": {},
   "outputs": [],
   "source": [
    "''' Q3\n",
    "\n",
    "we can include backslash in a string like below\n",
    "\n",
    "\\\\\n",
    "\n",
    "'''"
   ]
  },
  {
   "cell_type": "code",
   "execution_count": null,
   "metadata": {},
   "outputs": [],
   "source": [
    "'''  Q4\n",
    "\"Howl's Moving Castle\" will not give any error because double quote is used at the start and end of the string.\n",
    "\n",
    "'''"
   ]
  },
  {
   "cell_type": "code",
   "execution_count": 15,
   "metadata": {},
   "outputs": [
    {
     "name": "stdout",
     "output_type": "stream",
     "text": [
      " A paragraph is a series of related sentences developing a central idea, called the topic. \n",
      "        Try to think about paragraphs in terms of thematic unity: a paragraph is a sentence or a \n",
      "        group of sentences that supports one central, unified idea. Paragraphs add one idea at a\n",
      "        time to your broader argument.\n"
     ]
    }
   ],
   "source": [
    "#  Q5\n",
    "\n",
    "# we can write string of multiple lines with out using n haracter like below\n",
    "\n",
    "S = \"\"\" A paragraph is a series of related sentences developing a central idea, called the topic. \n",
    "        Try to think about paragraphs in terms of thematic unity: a paragraph is a sentence or a \n",
    "        group of sentences that supports one central, unified idea. Paragraphs add one idea at a\n",
    "        time to your broader argument.\"\"\"\n",
    "\n",
    "print (S)"
   ]
  },
  {
   "cell_type": "code",
   "execution_count": null,
   "metadata": {},
   "outputs": [],
   "source": [
    "''' Q6\n",
    "Below are the values of the expression in same order as mentioned\n",
    "\n",
    "'e'\n",
    "'Hello'\n",
    "'Hello'\n",
    "'lo, world!'\n",
    "\n",
    "'''"
   ]
  },
  {
   "cell_type": "code",
   "execution_count": null,
   "metadata": {},
   "outputs": [],
   "source": [
    "''' Q7\n",
    "Below are the values of the expression in same order as mentioned\n",
    "\n",
    "'HELLO'\n",
    "True\n",
    "'hello'\n",
    "\n",
    "'''"
   ]
  },
  {
   "cell_type": "code",
   "execution_count": null,
   "metadata": {},
   "outputs": [],
   "source": [
    "''' Q8\n",
    "Below are the values of the expression in same order as mentioned\n",
    "\n",
    "['Remember,', 'remember,', 'the', 'fifth', 'of', 'July.']\n",
    "\n",
    "\n",
    "'There-can-only-one.'\n",
    "\n",
    "\n",
    "'''"
   ]
  },
  {
   "cell_type": "code",
   "execution_count": 41,
   "metadata": {},
   "outputs": [
    {
     "name": "stdout",
     "output_type": "stream",
     "text": [
      "ineuron********\n",
      "********ineuron\n",
      "****ineuron****\n"
     ]
    }
   ],
   "source": [
    "# Q9\n",
    "\n",
    "s = 'ineuron'\n",
    "lj = s.ljust(15,'*')   # left justifying\n",
    "print(lj)\n",
    "\n",
    "rj = s.rjust(15,'*')   # right justifying\n",
    "print(rj)\n",
    "\n",
    "c = s.center(15,'*')  # centering\n",
    "print(c)"
   ]
  },
  {
   "cell_type": "code",
   "execution_count": null,
   "metadata": {},
   "outputs": [],
   "source": [
    "# Q10 \n",
    "\n",
    "# we can use strip() function to remove whitespace characters from the start or end"
   ]
  },
  {
   "cell_type": "code",
   "execution_count": null,
   "metadata": {},
   "outputs": [],
   "source": []
  }
 ],
 "metadata": {
  "kernelspec": {
   "display_name": "Python 3",
   "language": "python",
   "name": "python3"
  },
  "language_info": {
   "codemirror_mode": {
    "name": "ipython",
    "version": 3
   },
   "file_extension": ".py",
   "mimetype": "text/x-python",
   "name": "python",
   "nbconvert_exporter": "python",
   "pygments_lexer": "ipython3",
   "version": "3.8.5"
  }
 },
 "nbformat": 4,
 "nbformat_minor": 4
}
