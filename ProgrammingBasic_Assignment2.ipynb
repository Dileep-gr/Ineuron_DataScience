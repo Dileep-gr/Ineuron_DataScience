{
 "cells": [
  {
   "cell_type": "code",
   "execution_count": 1,
   "metadata": {},
   "outputs": [
    {
     "name": "stdout",
     "output_type": "stream",
     "text": [
      "enter number in KM:10\n",
      "10.0  km, after converting into miles becomes: 6.2\n"
     ]
    }
   ],
   "source": [
    "#Q1\n",
    "KM = float(input(\"enter number in KM:\"))\n",
    "miles = KM*0.62\n",
    "print(KM,\" km, after converting into miles becomes:\",miles)"
   ]
  },
  {
   "cell_type": "code",
   "execution_count": 3,
   "metadata": {},
   "outputs": [
    {
     "name": "stdout",
     "output_type": "stream",
     "text": [
      "enter number in celsius:26\n",
      "26.0  celcius, after converting into Fahrenheit becomes: 78.8\n"
     ]
    }
   ],
   "source": [
    "#Q2\n",
    "celcius = float(input(\"enter number in celsius:\"))\n",
    "Fahrenheit = celcius*1.8+32\n",
    "print(celcius,\" celcius, after converting into Fahrenheit becomes:\",round(Fahrenheit,2))"
   ]
  },
  {
   "cell_type": "code",
   "execution_count": 1,
   "metadata": {},
   "outputs": [
    {
     "name": "stdout",
     "output_type": "stream",
     "text": [
      "enter year in YYYY format:2021\n",
      "enter month in m format:4\n",
      "\n",
      "\n",
      "     April 2021\n",
      "Mo Tu We Th Fr Sa Su\n",
      "          1  2  3  4\n",
      " 5  6  7  8  9 10 11\n",
      "12 13 14 15 16 17 18\n",
      "19 20 21 22 23 24 25\n",
      "26 27 28 29 30\n",
      "\n"
     ]
    }
   ],
   "source": [
    "#Q3\n",
    "import calendar\n",
    "year = int(input(\"enter year in YYYY format:\"))\n",
    "month = int(input(\"enter month in m format:\"))\n",
    "print(\"\\n\")\n",
    "print(calendar.month(year, month))"
   ]
  },
  {
   "cell_type": "code",
   "execution_count": 6,
   "metadata": {},
   "outputs": [
    {
     "name": "stdout",
     "output_type": "stream",
     "text": [
      "Enter value of a: 1\n",
      "Enter value of b: 10\n",
      "Enter value of c: -24\n",
      "The solution are (-12+0j) and (2+0j)\n"
     ]
    }
   ],
   "source": [
    "#Q4\n",
    "import cmath\n",
    "\n",
    "a = float(input('Enter value of a: '))  \n",
    "b = float(input('Enter value of b: '))  \n",
    "c = float(input('Enter value of c: '))  \n",
    "  \n",
    "\n",
    "d = (b**2) - (4*a*c)  \n",
    "  \n",
    "\n",
    "sol1 = (-b-cmath.sqrt(d))/(2*a)  \n",
    "sol2 = (-b+cmath.sqrt(d))/(2*a) \n",
    "\n",
    "print('The solution are {0} and {1}'.format(sol1,sol2))"
   ]
  },
  {
   "cell_type": "code",
   "execution_count": 3,
   "metadata": {},
   "outputs": [
    {
     "name": "stdout",
     "output_type": "stream",
     "text": [
      "enter value for variable a:-30\n",
      "enter value for variable b:-45\n",
      "Value of a after swap:  -45.0\n",
      "Value of b after swap:  -30.0\n"
     ]
    }
   ],
   "source": [
    "#Q5\n",
    "a =float(input(\"enter value for variable a:\"))\n",
    "b =float(input(\"enter value for variable b:\"))\n",
    "b = a+b\n",
    "a = b-a\n",
    "b = -1*(a - b)\n",
    "       \n",
    "print(\"Value of a after swap: \",a)\n",
    "print(\"Value of b after swap: \",b)"
   ]
  },
  {
   "cell_type": "code",
   "execution_count": null,
   "metadata": {},
   "outputs": [],
   "source": []
  }
 ],
 "metadata": {
  "kernelspec": {
   "display_name": "Python 3",
   "language": "python",
   "name": "python3"
  },
  "language_info": {
   "codemirror_mode": {
    "name": "ipython",
    "version": 3
   },
   "file_extension": ".py",
   "mimetype": "text/x-python",
   "name": "python",
   "nbconvert_exporter": "python",
   "pygments_lexer": "ipython3",
   "version": "3.8.5"
  }
 },
 "nbformat": 4,
 "nbformat_minor": 4
}
